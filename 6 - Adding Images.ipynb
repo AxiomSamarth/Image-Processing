{
 "cells": [
  {
   "cell_type": "markdown",
   "metadata": {},
   "source": [
    "<h1>Adding Images</h1>\n",
    "<p>Adding images, simply means that the images are placed one over the other. When using normal adding function, care must be taken to have two images of <b>same</b> size. How to add images of different sizes without resizing, will be seen in our next video.</p>"
   ]
  },
  {
   "cell_type": "code",
   "execution_count": 3,
   "metadata": {
    "collapsed": true
   },
   "outputs": [],
   "source": [
    "import cv2"
   ]
  },
  {
   "cell_type": "markdown",
   "metadata": {},
   "source": [
    "<p>Read the images and resize the images to be of equal sizes</p>"
   ]
  },
  {
   "cell_type": "code",
   "execution_count": 4,
   "metadata": {
    "collapsed": true
   },
   "outputs": [],
   "source": [
    "image1 = cv2.imread('../images/neal.png')\n",
    "image2 = cv2.imread('../images/mainlogo.png')\n",
    "row, cols, _ = image1.shape\n",
    "image2 = cv2.resize(image2, (cols, row))"
   ]
  },
  {
   "cell_type": "markdown",
   "metadata": {},
   "source": [
    "<p>Direct addition of images can be done. The pixels are directly added. This would result in the pixel value of being more than 255</p>"
   ]
  },
  {
   "cell_type": "code",
   "execution_count": 5,
   "metadata": {
    "collapsed": true
   },
   "outputs": [],
   "source": [
    "image3 = image1 + image2\n",
    "cv2.imshow('Added Image', image3)\n",
    "cv2.waitKey(0)\n",
    "cv2.destroyAllWindows()"
   ]
  },
  {
   "cell_type": "markdown",
   "metadata": {},
   "source": [
    "<p>So, it is preferrable to use add() method which would add the images and truncate the pixel value more than 255 to 255 which is why most portion of the image will be white</p>"
   ]
  },
  {
   "cell_type": "code",
   "execution_count": 6,
   "metadata": {
    "collapsed": true
   },
   "outputs": [],
   "source": [
    "image3 = cv2.add(image1, image2)\n",
    "cv2.imshow('Added Image', image3)\n",
    "cv2.waitKey(0)\n",
    "cv2.destroyAllWindows()"
   ]
  },
  {
   "cell_type": "markdown",
   "metadata": {},
   "source": [
    "<p>Probably that's not an ideal way to add. So we can add some weights to each image and then perform addition. The last parameter is gamma of light which we'll set it to 0 for now.</p>"
   ]
  },
  {
   "cell_type": "code",
   "execution_count": 10,
   "metadata": {
    "collapsed": true
   },
   "outputs": [],
   "source": [
    "image3 = cv2.addWeighted(image1, 0.6, image2, 0.4, 0)\n",
    "cv2.imshow('Added Image', image3)\n",
    "cv2.waitKey(0)\n",
    "cv2.destroyAllWindows()"
   ]
  },
  {
   "cell_type": "code",
   "execution_count": null,
   "metadata": {
    "collapsed": true
   },
   "outputs": [],
   "source": []
  }
 ],
 "metadata": {
  "kernelspec": {
   "display_name": "Python 3",
   "language": "python",
   "name": "python3"
  },
  "language_info": {
   "codemirror_mode": {
    "name": "ipython",
    "version": 3
   },
   "file_extension": ".py",
   "mimetype": "text/x-python",
   "name": "python",
   "nbconvert_exporter": "python",
   "pygments_lexer": "ipython3",
   "version": "3.5.3"
  }
 },
 "nbformat": 4,
 "nbformat_minor": 2
}
