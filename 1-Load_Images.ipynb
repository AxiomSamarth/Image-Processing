{
 "cells": [
  {
   "cell_type": "markdown",
   "metadata": {},
   "source": [
    "<h2>Opencv</h2>  \n",
    "<ul>\n",
    "    <li>Open source computer vision library which has pretty much\n",
    "    everything you need for your image processing tasks</li>\n",
    "    <li>The library is huge to explore but let's focus on basics</li>\n",
    "    <li>At the end, we will accomplish two projects\n",
    "        <ol>\n",
    "            <li><strong>IMAGE FLIPPER</strong></li>\n",
    "            <li><strong>DIGIT RECOGNIZER</strong></li>\n",
    "        </ol>\n",
    "    </li>\n",
    "</ul>\n",
    "\n",
    "<p>Today's agenda -  to learn how to load an image for processing\n",
    "using openCV with Python</p>\n"
   ]
  },
  {
   "cell_type": "code",
   "execution_count": 4,
   "metadata": {
    "collapsed": true
   },
   "outputs": [],
   "source": [
    "import cv2"
   ]
  },
  {
   "cell_type": "code",
   "execution_count": 10,
   "metadata": {
    "collapsed": true
   },
   "outputs": [],
   "source": [
    "#image = cv2.imread('../images/neal.png')\n",
    "#image = cv2.imread('../images/neal.png', cv2.IMREAD_GRAYSCALE)\n",
    "#image = cv2.imread('../images/neal.png', cv2.IMREAD_COLOR)\n",
    "#image = cv2.imread('../images/neal.png', 0)\n",
    "\n",
    "cv2.imshow('Neal Caffery', image)\n",
    "cv2.waitKey(0)\n",
    "cv2.destroyAllWindows()"
   ]
  },
  {
   "cell_type": "markdown",
   "metadata": {},
   "source": [
    "if second parameter in cv2.imread is\n",
    "\n",
    "<ul>\n",
    "    <li>0 - then it loads grayscale</li>\n",
    "    <li>1 - then it loads color</li>\n",
    "    <li>-1 - then it loads the image in an unchanged format</li>\n",
    "</ul>"
   ]
  },
  {
   "cell_type": "code",
   "execution_count": null,
   "metadata": {
    "collapsed": true
   },
   "outputs": [],
   "source": []
  }
 ],
 "metadata": {
  "kernelspec": {
   "display_name": "Python 3",
   "language": "python",
   "name": "python3"
  },
  "language_info": {
   "codemirror_mode": {
    "name": "ipython",
    "version": 3
   },
   "file_extension": ".py",
   "mimetype": "text/x-python",
   "name": "python",
   "nbconvert_exporter": "python",
   "pygments_lexer": "ipython3",
   "version": "3.5.3"
  }
 },
 "nbformat": 4,
 "nbformat_minor": 2
}
