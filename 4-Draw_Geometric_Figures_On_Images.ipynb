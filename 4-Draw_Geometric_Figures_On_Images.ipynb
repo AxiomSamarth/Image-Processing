{
 "cells": [
  {
   "cell_type": "markdown",
   "metadata": {},
   "source": [
    "<h1>Drawing geometric figures on images using opencv</h1>\n",
    "<p>Figures like straight line, rectangle, circle, polygons etc can be easily drawn using opencv library</p>"
   ]
  },
  {
   "cell_type": "code",
   "execution_count": 44,
   "metadata": {
    "collapsed": true
   },
   "outputs": [],
   "source": [
    "import cv2\n",
    "import numpy as np"
   ]
  },
  {
   "cell_type": "code",
   "execution_count": 45,
   "metadata": {
    "collapsed": true
   },
   "outputs": [],
   "source": [
    "img = cv2.imread('../images/neal.png')"
   ]
  },
  {
   "cell_type": "markdown",
   "metadata": {},
   "source": [
    "<strong>Straight line</strong>\n",
    "<p>The line can be drawn with the following method<br />\n",
    "<i>cv2.line(image, initial_point, final_point, color, size)</i>\n",
    "</p>"
   ]
  },
  {
   "cell_type": "code",
   "execution_count": 38,
   "metadata": {
    "collapsed": true
   },
   "outputs": [],
   "source": [
    "cv2.line(img, (0,0), (150,150), (255,255,255), 4)\n",
    "cv2.imshow('Straight Line', img)\n",
    "cv2.waitKey(0)\n",
    "cv2.destroyAllWindows()"
   ]
  },
  {
   "cell_type": "markdown",
   "metadata": {},
   "source": [
    "<strong>Rectangle/Square</strong>\n",
    "<p>The rectangle can be drawn with the following method<br />\n",
    "<i>cv2.rectangle(image, first_diagonal_point, corr_end_diagonal_point,color, size)</p>"
   ]
  },
  {
   "cell_type": "code",
   "execution_count": 40,
   "metadata": {
    "collapsed": true
   },
   "outputs": [],
   "source": [
    "cv2.rectangle(img, (0,0), (150,100), (255,255,255), 4)\n",
    "cv2.imshow('Rectangle', img)\n",
    "cv2.waitKey(0)\n",
    "cv2.destroyAllWindows()"
   ]
  },
  {
   "cell_type": "markdown",
   "metadata": {},
   "source": [
    "<strong>Circle</strong>\n",
    "<p>The circle can be drawn with the following method<br />\n",
    "<i>cv2.circle(image, center, radius, color)</p>"
   ]
  },
  {
   "cell_type": "code",
   "execution_count": 43,
   "metadata": {
    "collapsed": true
   },
   "outputs": [],
   "source": [
    "cv2.circle(img, (200,200), 55, (255,0,0), -1)\n",
    "# BGR\n",
    "cv2.imshow('Circle', img)\n",
    "cv2.waitKey(0)\n",
    "cv2.destroyAllWindows()"
   ]
  },
  {
   "cell_type": "markdown",
   "metadata": {},
   "source": [
    "<strong>Polygon</strong>\n",
    "<p>The polygon can be written with this method<br />\n",
    "<i>cv2.polylines(image,[array of vertices], True, color, thickness)</p>"
   ]
  },
  {
   "cell_type": "code",
   "execution_count": 46,
   "metadata": {
    "collapsed": true
   },
   "outputs": [],
   "source": [
    "points = np.array([[0,0],[10,12],[15,24],[40,35],[12,1]], numpy.int32)\n",
    "cv2.polylines(img, [points], True, (255,255,225), 5)\n",
    "cv2.imshow('Polygon',img)\n",
    "cv2.waitKey(0)\n",
    "cv2.destroyAllWindows()"
   ]
  },
  {
   "cell_type": "markdown",
   "metadata": {},
   "source": [
    "<strong>Text</strong>\n",
    "<p>Text can also be written on our images like<br />\n",
    "<i>cv2.putText(image, String, init_loc, font, size, color, thickness)</p>"
   ]
  },
  {
   "cell_type": "code",
   "execution_count": 49,
   "metadata": {},
   "outputs": [],
   "source": [
    "font = cv2.FONT_HERSHEY_SIMPLEX\n",
    "cv2.putText(img, \"OpenCV Tutorials\", (150, 150), font, 2, (255,255,255),3)\n",
    "cv2.imshow('Text', img)\n",
    "cv2.waitKey(0)\n",
    "cv2.destroyAllWindows()"
   ]
  },
  {
   "cell_type": "code",
   "execution_count": null,
   "metadata": {
    "collapsed": true
   },
   "outputs": [],
   "source": []
  }
 ],
 "metadata": {
  "kernelspec": {
   "display_name": "Python 3",
   "language": "python",
   "name": "python3"
  },
  "language_info": {
   "codemirror_mode": {
    "name": "ipython",
    "version": 3
   },
   "file_extension": ".py",
   "mimetype": "text/x-python",
   "name": "python",
   "nbconvert_exporter": "python",
   "pygments_lexer": "ipython3",
   "version": "3.5.3"
  }
 },
 "nbformat": 4,
 "nbformat_minor": 2
}
