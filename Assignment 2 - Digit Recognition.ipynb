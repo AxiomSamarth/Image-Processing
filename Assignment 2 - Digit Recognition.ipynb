{
 "cells": [
  {
   "cell_type": "markdown",
   "metadata": {},
   "source": [
    "<h1>Digit recognition</h1>\n",
    "<p>The actual character or digit recognition is done employing machine learning and neural networks for higher accuracy but in this tutorial let's look for a basic, brute force, naive approach for recognizing them using pure openCV and nothing else.</p>\n",
    "<p>It's about matching the pixel pattern that is followed by a particular digit</p>"
   ]
  },
  {
   "cell_type": "code",
   "execution_count": 27,
   "metadata": {
    "collapsed": true
   },
   "outputs": [],
   "source": [
    "import cv2\n",
    "from collections import Counter\n",
    "from random import shuffle"
   ]
  },
  {
   "cell_type": "code",
   "execution_count": 29,
   "metadata": {},
   "outputs": [],
   "source": [
    "def create_dataset():\n",
    "    with open('dataset.txt','w') as f:\n",
    "        for i in range(0,10):\n",
    "            for j in range(1,10):\n",
    "                image = str(i)+'.'+str(j)+'.png'\n",
    "                pixels = cv2.imread('../images/numbers/'+image).reshape(1,64,3)\n",
    "                \n",
    "                f.write(str(i)+'::')\n",
    "                for row in pixels:\n",
    "                    for col in row:\n",
    "                        f.write(str(col)+',')\n",
    "                f.write('\\n')"
   ]
  },
  {
   "cell_type": "code",
   "execution_count": 30,
   "metadata": {
    "collapsed": true
   },
   "outputs": [],
   "source": [
    "create_dataset()"
   ]
  },
  {
   "cell_type": "code",
   "execution_count": 33,
   "metadata": {
    "collapsed": true
   },
   "outputs": [],
   "source": [
    "def prediction(sample):\n",
    "    match_counter = []\n",
    "    \n",
    "    sample = sample.reshape(1,64,3)\n",
    "    li = []\n",
    "    for row in sample:\n",
    "        for col in row:\n",
    "            li.append(str(col))\n",
    "            \n",
    "    with open('dataset.txt','r') as f:\n",
    "        dataset = f.readlines()\n",
    "        for data in dataset:\n",
    "            number, pixels = data.split('::')\n",
    "            pixels = pixels.strip(',\\n').split(',')\n",
    "            \n",
    "            for i in range(len(pixels)):\n",
    "                if li[i] == pixels[i]:\n",
    "                    match_counter.append(number)\n",
    "                    \n",
    "    result = Counter(match_counter)\n",
    "    print(\"The sample image is very similar to\", result.most_common()[0][0])"
   ]
  },
  {
   "cell_type": "code",
   "execution_count": 37,
   "metadata": {},
   "outputs": [
    {
     "name": "stdout",
     "output_type": "stream",
     "text": [
      "The sample image is very similar to 1\n"
     ]
    }
   ],
   "source": [
    "sample = cv2.imread('sample.png')\n",
    "prediction(sample)"
   ]
  },
  {
   "cell_type": "code",
   "execution_count": null,
   "metadata": {
    "collapsed": true
   },
   "outputs": [],
   "source": []
  }
 ],
 "metadata": {
  "kernelspec": {
   "display_name": "Python 3",
   "language": "python",
   "name": "python3"
  },
  "language_info": {
   "codemirror_mode": {
    "name": "ipython",
    "version": 3
   },
   "file_extension": ".py",
   "mimetype": "text/x-python",
   "name": "python",
   "nbconvert_exporter": "python",
   "pygments_lexer": "ipython3",
   "version": "3.5.3"
  }
 },
 "nbformat": 4,
 "nbformat_minor": 2
}
